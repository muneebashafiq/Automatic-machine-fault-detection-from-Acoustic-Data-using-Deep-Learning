{
  "nbformat": 4,
  "nbformat_minor": 0,
  "metadata": {
    "colab": {
      "provenance": [],
      "gpuType": "V28"
    },
    "kernelspec": {
      "name": "python3",
      "display_name": "Python 3"
    },
    "language_info": {
      "name": "python"
    },
    "accelerator": "TPU"
  },
  "cells": [
    {
      "cell_type": "code",
      "execution_count": 4,
      "metadata": {
        "colab": {
          "base_uri": "https://localhost:8080/"
        },
        "id": "ZU9vNbmU4nQd",
        "outputId": "be032ef5-1220-4fa5-e853-9c0d97b454a0"
      },
      "outputs": [
        {
          "output_type": "stream",
          "name": "stdout",
          "text": [
            "Mounted at /content/drive\n"
          ]
        }
      ],
      "source": [
        "from google.colab import drive\n",
        "drive.mount('/content/drive')"
      ]
    },
    {
      "cell_type": "code",
      "source": [
        "!pip install tensorflow -q"
      ],
      "metadata": {
        "id": "_3ixYQlP429z"
      },
      "execution_count": 5,
      "outputs": []
    },
    {
      "cell_type": "code",
      "source": [
        "import os\n",
        "import numpy as np\n",
        "import librosa\n",
        "from tensorflow.keras import models, layers\n",
        "from sklearn.model_selection import train_test_split"
      ],
      "metadata": {
        "id": "3jD-Y_oc4-nL"
      },
      "execution_count": 6,
      "outputs": []
    },
    {
      "cell_type": "code",
      "source": [
        "# Paths\n",
        "audio_dir = '/content/drive/MyDrive/sampless'\n",
        "# os.makedirs(output_dir, exist_ok=True)\n",
        "\n",
        "# Parameters\n",
        "sr = 44100\n",
        "n_fft = 2048\n",
        "hop_length = 512\n",
        "n_mfcc = 13\n",
        "chunk_size_sec = 0.3  # 0.2-second chunks\n",
        "chunk_frames = int(chunk_size_sec * sr / hop_length)  # ~43 frames\n",
        "overlap_ratio = 0.2  # 20% overlap\n",
        "overlap_frames = int(overlap_ratio * chunk_frames)  # 20% of chunk_frames\n",
        "step_size = chunk_frames - overlap_frames  # Step size for 20% overlap\n",
        "\n",
        "# Fault types\n",
        "fault_types = {'Arcing': 0, 'Corona': 1, 'Looseness': 2, 'Tracking': 3}"
      ],
      "metadata": {
        "id": "kyFJcL__47Sb"
      },
      "execution_count": 8,
      "outputs": []
    },
    {
      "cell_type": "code",
      "source": [
        "data = []\n",
        "labels = []\n",
        "\n",
        "# Process audio files with overlap\n",
        "for audio_file in os.listdir(audio_dir):\n",
        "    if audio_file.endswith('.wav'):\n",
        "        filepath = os.path.join(audio_dir, audio_file)\n",
        "        audio, _ = librosa.load(filepath, sr=sr)\n",
        "\n",
        "        # MFCC\n",
        "        mfcc = librosa.feature.mfcc(y=audio, sr=sr, n_mfcc=n_mfcc, n_fft=n_fft, hop_length=hop_length)\n",
        "\n",
        "        # STFT (magnitude and phase)\n",
        "        stft = librosa.stft(audio, n_fft=n_fft, hop_length=hop_length)\n",
        "        stft_mag = librosa.amplitude_to_db(np.abs(stft), ref=np.max)\n",
        "        stft_phase = np.angle(stft)\n",
        "\n",
        "        # Segment into 0.2-second chunks with 20% overlap\n",
        "        for start in range(0, mfcc.shape[1] - chunk_frames + 1, step_size):\n",
        "            end = start + chunk_frames\n",
        "            mfcc_chunk = mfcc[:, start:end]\n",
        "            mag_chunk = stft_mag[:n_mfcc, start:end]  # Crop to match MFCC\n",
        "            phase_chunk = stft_phase[:n_mfcc, start:end]\n",
        "\n",
        "            # Pad if the chunk is too short (e.g., at the end of the audio)\n",
        "            if mfcc_chunk.shape[1] < chunk_frames:\n",
        "                mfcc_chunk = np.pad(mfcc_chunk, ((0, 0), (0, chunk_frames - mfcc_chunk.shape[1])), mode='constant')\n",
        "                mag_chunk = np.pad(mag_chunk, ((0, 0), (0, chunk_frames - mag_chunk.shape[1])), mode='constant')\n",
        "                phase_chunk = np.pad(phase_chunk, ((0, 0), (0, chunk_frames - phase_chunk.shape[1])), mode='constant')\n",
        "\n",
        "            chunk = np.stack((mfcc_chunk, mag_chunk, phase_chunk), axis=-1)\n",
        "            data.append(chunk)\n",
        "            for fault in fault_types:\n",
        "                if fault in audio_file:\n",
        "                    labels.append(fault_types[fault])\n",
        "                    break"
      ],
      "metadata": {
        "collapsed": true,
        "id": "RGX455295HA2"
      },
      "execution_count": 9,
      "outputs": []
    },
    {
      "cell_type": "code",
      "source": [
        "for audio_file in os.listdir(audio_dir):\n",
        "    if audio_file.endswith('.wav'):\n",
        "        filepath = os.path.join(audio_dir, audio_file)\n",
        "        audio, _ = librosa.load(filepath, sr=sr)\n",
        "\n",
        "        augmentations = [\n",
        "            librosa.effects.time_stretch(audio, rate=0.9),\n",
        "            librosa.effects.time_stretch(audio, rate=1.1),\n",
        "            librosa.effects.pitch_shift(audio, sr=sr, n_steps=2),\n",
        "            librosa.effects.pitch_shift(audio, sr=sr, n_steps=-2),\n",
        "            audio + 0.005 * np.random.randn(len(audio))\n",
        "        ]\n",
        "\n",
        "        for aug_audio in augmentations:\n",
        "            mfcc_aug = librosa.feature.mfcc(y=aug_audio, sr=sr, n_mfcc=n_mfcc, n_fft=n_fft, hop_length=hop_length)\n",
        "            stft_aug = librosa.stft(aug_audio, n_fft=n_fft, hop_length=hop_length)\n",
        "            stft_mag_aug = librosa.amplitude_to_db(np.abs(stft_aug), ref=np.max)\n",
        "            stft_phase_aug = np.angle(stft_aug)\n",
        "\n",
        "            for start in range(0, mfcc_aug.shape[1], chunk_frames):\n",
        "                mfcc_chunk = mfcc_aug[:, start:start + chunk_frames]\n",
        "                mag_chunk = stft_mag_aug[:n_mfcc, start:start + chunk_frames]\n",
        "                phase_chunk = stft_phase_aug[:n_mfcc, start:start + chunk_frames]\n",
        "\n",
        "                if mfcc_chunk.shape[1] < chunk_frames:\n",
        "                    mfcc_chunk = np.pad(mfcc_chunk, ((0, 0), (0, chunk_frames - mfcc_chunk.shape[1])), mode='constant')\n",
        "                    mag_chunk = np.pad(mag_chunk, ((0, 0), (0, chunk_frames - mag_chunk.shape[1])), mode='constant')\n",
        "                    phase_chunk = np.pad(phase_chunk, ((0, 0), (0, chunk_frames - phase_chunk.shape[1])), mode='constant')\n",
        "\n",
        "                chunk = np.stack((mfcc_chunk, mag_chunk, phase_chunk), axis=-1)\n",
        "                data.append(chunk)\n",
        "                for fault in fault_types:\n",
        "                    if fault in audio_file:\n",
        "                        labels.append(fault_types[fault])\n",
        "                        break"
      ],
      "metadata": {
        "id": "PUmVd5CL53YJ"
      },
      "execution_count": 10,
      "outputs": []
    },
    {
      "cell_type": "code",
      "source": [
        "from scipy.ndimage import zoom\n",
        "import gc"
      ],
      "metadata": {
        "id": "4DF5Pqdu7Mss"
      },
      "execution_count": 11,
      "outputs": []
    },
    {
      "cell_type": "code",
      "source": [
        "\n",
        "data = np.array(data)  # Shape: [7435, 13, 43, 3]\n",
        "labels = np.array(labels)\n",
        "\n",
        "# Print shapes to confirm\n",
        "print(f\"Data shape: {data.shape}\")\n",
        "print(f\"First sample shape: {data[0].shape}\")\n",
        "\n",
        "# Normalize each channel\n",
        "for channel in range(3):\n",
        "    data[:, :, :, channel] = (data[:, :, :, channel] - np.mean(data[:, :, :, channel])) / np.std(data[:, :, :, channel])\n",
        "\n",
        "# Transform rectangular [13, 43, 3] to square [34, 34, 3] using interpolation\n",
        "num_samples = data.shape[0]\n",
        "original_height, original_width = data.shape[1], data.shape[2]  # 13, 43\n",
        "new_size = 34\n",
        "print(f\"Target square size: {new_size}\")\n",
        "square_data = np.zeros((num_samples, new_size, new_size, 3), dtype=np.float32)  # [7435, 34, 34, 3]\n",
        "\n",
        "# Calculate zoom factors\n",
        "zoom_factor_height = new_size / original_height  # 34 / 13 ≈ 2.615\n",
        "zoom_factor_width = new_size / original_width    # 34 / 43 ≈ 0.791\n",
        "\n",
        "for i in range(num_samples):\n",
        "    for channel in range(3):\n",
        "        img = data[i, :, :, channel]  # [13, 43]\n",
        "        # Resize using interpolation (bicubic by default in scipy.ndimage.zoom)\n",
        "        resized = zoom(img, (zoom_factor_height, zoom_factor_width), order=3)  # [34, 34]\n",
        "        square_data[i, :, :, channel] = resized\n",
        "\n",
        "\n"
      ],
      "metadata": {
        "colab": {
          "base_uri": "https://localhost:8080/"
        },
        "id": "ec_HCGEB6XXy",
        "outputId": "e1dc9c5e-2f2f-45f0-f788-9ffad5a24475"
      },
      "execution_count": 12,
      "outputs": [
        {
          "output_type": "stream",
          "name": "stdout",
          "text": [
            "Data shape: (19247, 13, 17, 3)\n",
            "First sample shape: (13, 17, 3)\n",
            "Target square size: 34\n"
          ]
        }
      ]
    },
    {
      "cell_type": "code",
      "source": [
        "# Train-test split\n",
        "X_train, X_test, y_train, y_test = train_test_split(square_data, labels, test_size=0.2, random_state=42)\n",
        "print(f\"Training samples: {X_train.shape[0]}, Test samples: {X_test.shape[0]}\")\n",
        "print(f\"X_train shape: {X_train.shape}, X_test shape: {X_test.shape}\")\n",
        "\n"
      ],
      "metadata": {
        "colab": {
          "base_uri": "https://localhost:8080/"
        },
        "id": "6q2RazTY7Uwh",
        "outputId": "cabb77f1-c0b7-404a-fea1-bd349beda172"
      },
      "execution_count": 13,
      "outputs": [
        {
          "output_type": "stream",
          "name": "stdout",
          "text": [
            "Training samples: 15397, Test samples: 3850\n",
            "X_train shape: (15397, 34, 34, 3), X_test shape: (3850, 34, 34, 3)\n"
          ]
        }
      ]
    },
    {
      "cell_type": "code",
      "source": [
        "model = models.Sequential([\n",
        "    layers.Conv2D(32, (3, 3), activation='relu', input_shape=(34, 34, 3)),\n",
        "    layers.MaxPooling2D((2, 2)),\n",
        "    layers.Conv2D(64, (3, 3), activation='relu'),\n",
        "    layers.MaxPooling2D((2, 2)),\n",
        "    layers.Conv2D(128, (3, 3), activation='relu'),\n",
        "    layers.Flatten(),\n",
        "    layers.Dense(128, activation='relu'),\n",
        "    layers.Dropout(0.5),\n",
        "    layers.Dense(4, activation='softmax')  # 4 classes\n",
        "])\n",
        "\n",
        "# Compile\n",
        "model.compile(optimizer='adam', loss='sparse_categorical_crossentropy', metrics=['accuracy'])\n",
        "model.summary()"
      ],
      "metadata": {
        "colab": {
          "base_uri": "https://localhost:8080/",
          "height": 417
        },
        "id": "f8Q3s1Nt7Zoh",
        "outputId": "3c1f984f-464c-4d4c-f91c-3114586dfd7b"
      },
      "execution_count": 16,
      "outputs": [
        {
          "output_type": "display_data",
          "data": {
            "text/plain": [
              "\u001b[1mModel: \"sequential_1\"\u001b[0m\n"
            ],
            "text/html": [
              "<pre style=\"white-space:pre;overflow-x:auto;line-height:normal;font-family:Menlo,'DejaVu Sans Mono',consolas,'Courier New',monospace\"><span style=\"font-weight: bold\">Model: \"sequential_1\"</span>\n",
              "</pre>\n"
            ]
          },
          "metadata": {}
        },
        {
          "output_type": "display_data",
          "data": {
            "text/plain": [
              "┏━━━━━━━━━━━━━━━━━━━━━━━━━━━━━━━━━━━━━━┳━━━━━━━━━━━━━━━━━━━━━━━━━━━━━┳━━━━━━━━━━━━━━━━━┓\n",
              "┃\u001b[1m \u001b[0m\u001b[1mLayer (type)                        \u001b[0m\u001b[1m \u001b[0m┃\u001b[1m \u001b[0m\u001b[1mOutput Shape               \u001b[0m\u001b[1m \u001b[0m┃\u001b[1m \u001b[0m\u001b[1m        Param #\u001b[0m\u001b[1m \u001b[0m┃\n",
              "┡━━━━━━━━━━━━━━━━━━━━━━━━━━━━━━━━━━━━━━╇━━━━━━━━━━━━━━━━━━━━━━━━━━━━━╇━━━━━━━━━━━━━━━━━┩\n",
              "│ conv2d_3 (\u001b[38;5;33mConv2D\u001b[0m)                    │ (\u001b[38;5;45mNone\u001b[0m, \u001b[38;5;34m32\u001b[0m, \u001b[38;5;34m32\u001b[0m, \u001b[38;5;34m32\u001b[0m)          │             \u001b[38;5;34m896\u001b[0m │\n",
              "├──────────────────────────────────────┼─────────────────────────────┼─────────────────┤\n",
              "│ max_pooling2d_2 (\u001b[38;5;33mMaxPooling2D\u001b[0m)       │ (\u001b[38;5;45mNone\u001b[0m, \u001b[38;5;34m16\u001b[0m, \u001b[38;5;34m16\u001b[0m, \u001b[38;5;34m32\u001b[0m)          │               \u001b[38;5;34m0\u001b[0m │\n",
              "├──────────────────────────────────────┼─────────────────────────────┼─────────────────┤\n",
              "│ conv2d_4 (\u001b[38;5;33mConv2D\u001b[0m)                    │ (\u001b[38;5;45mNone\u001b[0m, \u001b[38;5;34m14\u001b[0m, \u001b[38;5;34m14\u001b[0m, \u001b[38;5;34m64\u001b[0m)          │          \u001b[38;5;34m18,496\u001b[0m │\n",
              "├──────────────────────────────────────┼─────────────────────────────┼─────────────────┤\n",
              "│ max_pooling2d_3 (\u001b[38;5;33mMaxPooling2D\u001b[0m)       │ (\u001b[38;5;45mNone\u001b[0m, \u001b[38;5;34m7\u001b[0m, \u001b[38;5;34m7\u001b[0m, \u001b[38;5;34m64\u001b[0m)            │               \u001b[38;5;34m0\u001b[0m │\n",
              "├──────────────────────────────────────┼─────────────────────────────┼─────────────────┤\n",
              "│ conv2d_5 (\u001b[38;5;33mConv2D\u001b[0m)                    │ (\u001b[38;5;45mNone\u001b[0m, \u001b[38;5;34m5\u001b[0m, \u001b[38;5;34m5\u001b[0m, \u001b[38;5;34m128\u001b[0m)           │          \u001b[38;5;34m73,856\u001b[0m │\n",
              "├──────────────────────────────────────┼─────────────────────────────┼─────────────────┤\n",
              "│ flatten_1 (\u001b[38;5;33mFlatten\u001b[0m)                  │ (\u001b[38;5;45mNone\u001b[0m, \u001b[38;5;34m3200\u001b[0m)                │               \u001b[38;5;34m0\u001b[0m │\n",
              "├──────────────────────────────────────┼─────────────────────────────┼─────────────────┤\n",
              "│ dense_2 (\u001b[38;5;33mDense\u001b[0m)                      │ (\u001b[38;5;45mNone\u001b[0m, \u001b[38;5;34m128\u001b[0m)                 │         \u001b[38;5;34m409,728\u001b[0m │\n",
              "├──────────────────────────────────────┼─────────────────────────────┼─────────────────┤\n",
              "│ dropout_1 (\u001b[38;5;33mDropout\u001b[0m)                  │ (\u001b[38;5;45mNone\u001b[0m, \u001b[38;5;34m128\u001b[0m)                 │               \u001b[38;5;34m0\u001b[0m │\n",
              "├──────────────────────────────────────┼─────────────────────────────┼─────────────────┤\n",
              "│ dense_3 (\u001b[38;5;33mDense\u001b[0m)                      │ (\u001b[38;5;45mNone\u001b[0m, \u001b[38;5;34m4\u001b[0m)                   │             \u001b[38;5;34m516\u001b[0m │\n",
              "└──────────────────────────────────────┴─────────────────────────────┴─────────────────┘\n"
            ],
            "text/html": [
              "<pre style=\"white-space:pre;overflow-x:auto;line-height:normal;font-family:Menlo,'DejaVu Sans Mono',consolas,'Courier New',monospace\">┏━━━━━━━━━━━━━━━━━━━━━━━━━━━━━━━━━━━━━━┳━━━━━━━━━━━━━━━━━━━━━━━━━━━━━┳━━━━━━━━━━━━━━━━━┓\n",
              "┃<span style=\"font-weight: bold\"> Layer (type)                         </span>┃<span style=\"font-weight: bold\"> Output Shape                </span>┃<span style=\"font-weight: bold\">         Param # </span>┃\n",
              "┡━━━━━━━━━━━━━━━━━━━━━━━━━━━━━━━━━━━━━━╇━━━━━━━━━━━━━━━━━━━━━━━━━━━━━╇━━━━━━━━━━━━━━━━━┩\n",
              "│ conv2d_3 (<span style=\"color: #0087ff; text-decoration-color: #0087ff\">Conv2D</span>)                    │ (<span style=\"color: #00d7ff; text-decoration-color: #00d7ff\">None</span>, <span style=\"color: #00af00; text-decoration-color: #00af00\">32</span>, <span style=\"color: #00af00; text-decoration-color: #00af00\">32</span>, <span style=\"color: #00af00; text-decoration-color: #00af00\">32</span>)          │             <span style=\"color: #00af00; text-decoration-color: #00af00\">896</span> │\n",
              "├──────────────────────────────────────┼─────────────────────────────┼─────────────────┤\n",
              "│ max_pooling2d_2 (<span style=\"color: #0087ff; text-decoration-color: #0087ff\">MaxPooling2D</span>)       │ (<span style=\"color: #00d7ff; text-decoration-color: #00d7ff\">None</span>, <span style=\"color: #00af00; text-decoration-color: #00af00\">16</span>, <span style=\"color: #00af00; text-decoration-color: #00af00\">16</span>, <span style=\"color: #00af00; text-decoration-color: #00af00\">32</span>)          │               <span style=\"color: #00af00; text-decoration-color: #00af00\">0</span> │\n",
              "├──────────────────────────────────────┼─────────────────────────────┼─────────────────┤\n",
              "│ conv2d_4 (<span style=\"color: #0087ff; text-decoration-color: #0087ff\">Conv2D</span>)                    │ (<span style=\"color: #00d7ff; text-decoration-color: #00d7ff\">None</span>, <span style=\"color: #00af00; text-decoration-color: #00af00\">14</span>, <span style=\"color: #00af00; text-decoration-color: #00af00\">14</span>, <span style=\"color: #00af00; text-decoration-color: #00af00\">64</span>)          │          <span style=\"color: #00af00; text-decoration-color: #00af00\">18,496</span> │\n",
              "├──────────────────────────────────────┼─────────────────────────────┼─────────────────┤\n",
              "│ max_pooling2d_3 (<span style=\"color: #0087ff; text-decoration-color: #0087ff\">MaxPooling2D</span>)       │ (<span style=\"color: #00d7ff; text-decoration-color: #00d7ff\">None</span>, <span style=\"color: #00af00; text-decoration-color: #00af00\">7</span>, <span style=\"color: #00af00; text-decoration-color: #00af00\">7</span>, <span style=\"color: #00af00; text-decoration-color: #00af00\">64</span>)            │               <span style=\"color: #00af00; text-decoration-color: #00af00\">0</span> │\n",
              "├──────────────────────────────────────┼─────────────────────────────┼─────────────────┤\n",
              "│ conv2d_5 (<span style=\"color: #0087ff; text-decoration-color: #0087ff\">Conv2D</span>)                    │ (<span style=\"color: #00d7ff; text-decoration-color: #00d7ff\">None</span>, <span style=\"color: #00af00; text-decoration-color: #00af00\">5</span>, <span style=\"color: #00af00; text-decoration-color: #00af00\">5</span>, <span style=\"color: #00af00; text-decoration-color: #00af00\">128</span>)           │          <span style=\"color: #00af00; text-decoration-color: #00af00\">73,856</span> │\n",
              "├──────────────────────────────────────┼─────────────────────────────┼─────────────────┤\n",
              "│ flatten_1 (<span style=\"color: #0087ff; text-decoration-color: #0087ff\">Flatten</span>)                  │ (<span style=\"color: #00d7ff; text-decoration-color: #00d7ff\">None</span>, <span style=\"color: #00af00; text-decoration-color: #00af00\">3200</span>)                │               <span style=\"color: #00af00; text-decoration-color: #00af00\">0</span> │\n",
              "├──────────────────────────────────────┼─────────────────────────────┼─────────────────┤\n",
              "│ dense_2 (<span style=\"color: #0087ff; text-decoration-color: #0087ff\">Dense</span>)                      │ (<span style=\"color: #00d7ff; text-decoration-color: #00d7ff\">None</span>, <span style=\"color: #00af00; text-decoration-color: #00af00\">128</span>)                 │         <span style=\"color: #00af00; text-decoration-color: #00af00\">409,728</span> │\n",
              "├──────────────────────────────────────┼─────────────────────────────┼─────────────────┤\n",
              "│ dropout_1 (<span style=\"color: #0087ff; text-decoration-color: #0087ff\">Dropout</span>)                  │ (<span style=\"color: #00d7ff; text-decoration-color: #00d7ff\">None</span>, <span style=\"color: #00af00; text-decoration-color: #00af00\">128</span>)                 │               <span style=\"color: #00af00; text-decoration-color: #00af00\">0</span> │\n",
              "├──────────────────────────────────────┼─────────────────────────────┼─────────────────┤\n",
              "│ dense_3 (<span style=\"color: #0087ff; text-decoration-color: #0087ff\">Dense</span>)                      │ (<span style=\"color: #00d7ff; text-decoration-color: #00d7ff\">None</span>, <span style=\"color: #00af00; text-decoration-color: #00af00\">4</span>)                   │             <span style=\"color: #00af00; text-decoration-color: #00af00\">516</span> │\n",
              "└──────────────────────────────────────┴─────────────────────────────┴─────────────────┘\n",
              "</pre>\n"
            ]
          },
          "metadata": {}
        },
        {
          "output_type": "display_data",
          "data": {
            "text/plain": [
              "\u001b[1m Total params: \u001b[0m\u001b[38;5;34m503,492\u001b[0m (1.92 MB)\n"
            ],
            "text/html": [
              "<pre style=\"white-space:pre;overflow-x:auto;line-height:normal;font-family:Menlo,'DejaVu Sans Mono',consolas,'Courier New',monospace\"><span style=\"font-weight: bold\"> Total params: </span><span style=\"color: #00af00; text-decoration-color: #00af00\">503,492</span> (1.92 MB)\n",
              "</pre>\n"
            ]
          },
          "metadata": {}
        },
        {
          "output_type": "display_data",
          "data": {
            "text/plain": [
              "\u001b[1m Trainable params: \u001b[0m\u001b[38;5;34m503,492\u001b[0m (1.92 MB)\n"
            ],
            "text/html": [
              "<pre style=\"white-space:pre;overflow-x:auto;line-height:normal;font-family:Menlo,'DejaVu Sans Mono',consolas,'Courier New',monospace\"><span style=\"font-weight: bold\"> Trainable params: </span><span style=\"color: #00af00; text-decoration-color: #00af00\">503,492</span> (1.92 MB)\n",
              "</pre>\n"
            ]
          },
          "metadata": {}
        },
        {
          "output_type": "display_data",
          "data": {
            "text/plain": [
              "\u001b[1m Non-trainable params: \u001b[0m\u001b[38;5;34m0\u001b[0m (0.00 B)\n"
            ],
            "text/html": [
              "<pre style=\"white-space:pre;overflow-x:auto;line-height:normal;font-family:Menlo,'DejaVu Sans Mono',consolas,'Courier New',monospace\"><span style=\"font-weight: bold\"> Non-trainable params: </span><span style=\"color: #00af00; text-decoration-color: #00af00\">0</span> (0.00 B)\n",
              "</pre>\n"
            ]
          },
          "metadata": {}
        }
      ]
    },
    {
      "cell_type": "code",
      "source": [
        "# Train with early stopping\n",
        "from tensorflow.keras.callbacks import EarlyStopping\n",
        "early_stopping = EarlyStopping(monitor='val_accuracy', patience=5, restore_best_weights=True)\n",
        "history = model.fit(\n",
        "    X_train, y_train,\n",
        "    epochs=50,\n",
        "    batch_size=16,\n",
        "    validation_data=(X_test, y_test),\n",
        "    callbacks=[early_stopping],\n",
        "    verbose=1\n",
        ")"
      ],
      "metadata": {
        "colab": {
          "base_uri": "https://localhost:8080/"
        },
        "id": "sNrbYkpt7gib",
        "outputId": "35308d37-3806-4c2e-fd65-0cd18747de63"
      },
      "execution_count": 17,
      "outputs": [
        {
          "output_type": "stream",
          "name": "stdout",
          "text": [
            "Epoch 1/50\n",
            "\u001b[1m963/963\u001b[0m \u001b[32m━━━━━━━━━━━━━━━━━━━━\u001b[0m\u001b[37m\u001b[0m \u001b[1m36s\u001b[0m 35ms/step - accuracy: 0.4527 - loss: 1.1852 - val_accuracy: 0.6483 - val_loss: 0.8429\n",
            "Epoch 2/50\n",
            "\u001b[1m963/963\u001b[0m \u001b[32m━━━━━━━━━━━━━━━━━━━━\u001b[0m\u001b[37m\u001b[0m \u001b[1m41s\u001b[0m 35ms/step - accuracy: 0.6483 - loss: 0.8408 - val_accuracy: 0.7494 - val_loss: 0.5751\n",
            "Epoch 3/50\n",
            "\u001b[1m963/963\u001b[0m \u001b[32m━━━━━━━━━━━━━━━━━━━━\u001b[0m\u001b[37m\u001b[0m \u001b[1m41s\u001b[0m 35ms/step - accuracy: 0.7576 - loss: 0.5905 - val_accuracy: 0.8034 - val_loss: 0.4852\n",
            "Epoch 4/50\n",
            "\u001b[1m963/963\u001b[0m \u001b[32m━━━━━━━━━━━━━━━━━━━━\u001b[0m\u001b[37m\u001b[0m \u001b[1m41s\u001b[0m 35ms/step - accuracy: 0.7899 - loss: 0.5062 - val_accuracy: 0.8216 - val_loss: 0.4201\n",
            "Epoch 5/50\n",
            "\u001b[1m963/963\u001b[0m \u001b[32m━━━━━━━━━━━━━━━━━━━━\u001b[0m\u001b[37m\u001b[0m \u001b[1m41s\u001b[0m 35ms/step - accuracy: 0.8113 - loss: 0.4590 - val_accuracy: 0.8223 - val_loss: 0.4434\n",
            "Epoch 6/50\n",
            "\u001b[1m963/963\u001b[0m \u001b[32m━━━━━━━━━━━━━━━━━━━━\u001b[0m\u001b[37m\u001b[0m \u001b[1m41s\u001b[0m 35ms/step - accuracy: 0.8270 - loss: 0.4178 - val_accuracy: 0.8361 - val_loss: 0.3860\n",
            "Epoch 7/50\n",
            "\u001b[1m963/963\u001b[0m \u001b[32m━━━━━━━━━━━━━━━━━━━━\u001b[0m\u001b[37m\u001b[0m \u001b[1m40s\u001b[0m 34ms/step - accuracy: 0.8356 - loss: 0.4042 - val_accuracy: 0.8457 - val_loss: 0.3604\n",
            "Epoch 8/50\n",
            "\u001b[1m963/963\u001b[0m \u001b[32m━━━━━━━━━━━━━━━━━━━━\u001b[0m\u001b[37m\u001b[0m \u001b[1m33s\u001b[0m 35ms/step - accuracy: 0.8446 - loss: 0.3734 - val_accuracy: 0.8499 - val_loss: 0.3499\n",
            "Epoch 9/50\n",
            "\u001b[1m963/963\u001b[0m \u001b[32m━━━━━━━━━━━━━━━━━━━━\u001b[0m\u001b[37m\u001b[0m \u001b[1m41s\u001b[0m 35ms/step - accuracy: 0.8625 - loss: 0.3354 - val_accuracy: 0.8288 - val_loss: 0.4137\n",
            "Epoch 10/50\n",
            "\u001b[1m963/963\u001b[0m \u001b[32m━━━━━━━━━━━━━━━━━━━━\u001b[0m\u001b[37m\u001b[0m \u001b[1m45s\u001b[0m 39ms/step - accuracy: 0.8743 - loss: 0.3033 - val_accuracy: 0.8556 - val_loss: 0.3628\n",
            "Epoch 11/50\n",
            "\u001b[1m963/963\u001b[0m \u001b[32m━━━━━━━━━━━━━━━━━━━━\u001b[0m\u001b[37m\u001b[0m \u001b[1m37s\u001b[0m 35ms/step - accuracy: 0.8733 - loss: 0.3057 - val_accuracy: 0.8600 - val_loss: 0.3287\n",
            "Epoch 12/50\n",
            "\u001b[1m963/963\u001b[0m \u001b[32m━━━━━━━━━━━━━━━━━━━━\u001b[0m\u001b[37m\u001b[0m \u001b[1m40s\u001b[0m 34ms/step - accuracy: 0.8812 - loss: 0.2832 - val_accuracy: 0.8486 - val_loss: 0.4191\n",
            "Epoch 13/50\n",
            "\u001b[1m963/963\u001b[0m \u001b[32m━━━━━━━━━━━━━━━━━━━━\u001b[0m\u001b[37m\u001b[0m \u001b[1m41s\u001b[0m 34ms/step - accuracy: 0.8814 - loss: 0.2892 - val_accuracy: 0.8675 - val_loss: 0.3423\n",
            "Epoch 14/50\n",
            "\u001b[1m963/963\u001b[0m \u001b[32m━━━━━━━━━━━━━━━━━━━━\u001b[0m\u001b[37m\u001b[0m \u001b[1m41s\u001b[0m 34ms/step - accuracy: 0.8810 - loss: 0.2712 - val_accuracy: 0.8610 - val_loss: 0.3403\n",
            "Epoch 15/50\n",
            "\u001b[1m963/963\u001b[0m \u001b[32m━━━━━━━━━━━━━━━━━━━━\u001b[0m\u001b[37m\u001b[0m \u001b[1m46s\u001b[0m 40ms/step - accuracy: 0.8916 - loss: 0.2654 - val_accuracy: 0.8639 - val_loss: 0.3604\n",
            "Epoch 16/50\n",
            "\u001b[1m963/963\u001b[0m \u001b[32m━━━━━━━━━━━━━━━━━━━━\u001b[0m\u001b[37m\u001b[0m \u001b[1m36s\u001b[0m 35ms/step - accuracy: 0.8994 - loss: 0.2438 - val_accuracy: 0.8587 - val_loss: 0.4005\n",
            "Epoch 17/50\n",
            "\u001b[1m963/963\u001b[0m \u001b[32m━━━━━━━━━━━━━━━━━━━━\u001b[0m\u001b[37m\u001b[0m \u001b[1m43s\u001b[0m 37ms/step - accuracy: 0.8959 - loss: 0.2447 - val_accuracy: 0.8595 - val_loss: 0.3905\n",
            "Epoch 18/50\n",
            "\u001b[1m963/963\u001b[0m \u001b[32m━━━━━━━━━━━━━━━━━━━━\u001b[0m\u001b[37m\u001b[0m \u001b[1m39s\u001b[0m 35ms/step - accuracy: 0.9014 - loss: 0.2399 - val_accuracy: 0.8696 - val_loss: 0.3596\n",
            "Epoch 19/50\n",
            "\u001b[1m963/963\u001b[0m \u001b[32m━━━━━━━━━━━━━━━━━━━━\u001b[0m\u001b[37m\u001b[0m \u001b[1m40s\u001b[0m 34ms/step - accuracy: 0.9056 - loss: 0.2201 - val_accuracy: 0.8670 - val_loss: 0.3683\n",
            "Epoch 20/50\n",
            "\u001b[1m963/963\u001b[0m \u001b[32m━━━━━━━━━━━━━━━━━━━━\u001b[0m\u001b[37m\u001b[0m \u001b[1m41s\u001b[0m 35ms/step - accuracy: 0.9123 - loss: 0.2073 - val_accuracy: 0.8610 - val_loss: 0.4108\n",
            "Epoch 21/50\n",
            "\u001b[1m963/963\u001b[0m \u001b[32m━━━━━━━━━━━━━━━━━━━━\u001b[0m\u001b[37m\u001b[0m \u001b[1m41s\u001b[0m 35ms/step - accuracy: 0.9150 - loss: 0.2076 - val_accuracy: 0.8688 - val_loss: 0.3986\n",
            "Epoch 22/50\n",
            "\u001b[1m963/963\u001b[0m \u001b[32m━━━━━━━━━━━━━━━━━━━━\u001b[0m\u001b[37m\u001b[0m \u001b[1m41s\u001b[0m 35ms/step - accuracy: 0.9171 - loss: 0.2075 - val_accuracy: 0.8548 - val_loss: 0.4378\n",
            "Epoch 23/50\n",
            "\u001b[1m963/963\u001b[0m \u001b[32m━━━━━━━━━━━━━━━━━━━━\u001b[0m\u001b[37m\u001b[0m \u001b[1m41s\u001b[0m 35ms/step - accuracy: 0.9162 - loss: 0.2085 - val_accuracy: 0.8732 - val_loss: 0.3907\n",
            "Epoch 24/50\n",
            "\u001b[1m963/963\u001b[0m \u001b[32m━━━━━━━━━━━━━━━━━━━━\u001b[0m\u001b[37m\u001b[0m \u001b[1m33s\u001b[0m 35ms/step - accuracy: 0.9234 - loss: 0.1778 - val_accuracy: 0.8608 - val_loss: 0.4357\n",
            "Epoch 25/50\n",
            "\u001b[1m963/963\u001b[0m \u001b[32m━━━━━━━━━━━━━━━━━━━━\u001b[0m\u001b[37m\u001b[0m \u001b[1m36s\u001b[0m 37ms/step - accuracy: 0.9229 - loss: 0.1946 - val_accuracy: 0.8792 - val_loss: 0.3894\n",
            "Epoch 26/50\n",
            "\u001b[1m963/963\u001b[0m \u001b[32m━━━━━━━━━━━━━━━━━━━━\u001b[0m\u001b[37m\u001b[0m \u001b[1m41s\u001b[0m 37ms/step - accuracy: 0.9250 - loss: 0.1851 - val_accuracy: 0.8603 - val_loss: 0.4423\n",
            "Epoch 27/50\n",
            "\u001b[1m963/963\u001b[0m \u001b[32m━━━━━━━━━━━━━━━━━━━━\u001b[0m\u001b[37m\u001b[0m \u001b[1m38s\u001b[0m 35ms/step - accuracy: 0.9202 - loss: 0.1984 - val_accuracy: 0.8761 - val_loss: 0.3796\n",
            "Epoch 28/50\n",
            "\u001b[1m963/963\u001b[0m \u001b[32m━━━━━━━━━━━━━━━━━━━━\u001b[0m\u001b[37m\u001b[0m \u001b[1m41s\u001b[0m 35ms/step - accuracy: 0.9292 - loss: 0.1782 - val_accuracy: 0.8566 - val_loss: 0.4641\n",
            "Epoch 29/50\n",
            "\u001b[1m963/963\u001b[0m \u001b[32m━━━━━━━━━━━━━━━━━━━━\u001b[0m\u001b[37m\u001b[0m \u001b[1m35s\u001b[0m 36ms/step - accuracy: 0.9360 - loss: 0.1671 - val_accuracy: 0.8751 - val_loss: 0.3703\n",
            "Epoch 30/50\n",
            "\u001b[1m963/963\u001b[0m \u001b[32m━━━━━━━━━━━━━━━━━━━━\u001b[0m\u001b[37m\u001b[0m \u001b[1m33s\u001b[0m 35ms/step - accuracy: 0.9193 - loss: 0.2052 - val_accuracy: 0.8722 - val_loss: 0.4535\n"
          ]
        }
      ]
    },
    {
      "cell_type": "code",
      "source": [
        "test_loss, test_acc = model.evaluate(X_test, y_test)\n",
        "print(f\"Test Accuracy: {test_acc:.4f}\")\n",
        "model.save('fault_detection.h5')"
      ],
      "metadata": {
        "colab": {
          "base_uri": "https://localhost:8080/"
        },
        "id": "MNYV0Itp7thp",
        "outputId": "1d5a0a6f-a45c-4a09-d01d-9b959bb9cc64"
      },
      "execution_count": 18,
      "outputs": [
        {
          "output_type": "stream",
          "name": "stdout",
          "text": [
            "\u001b[1m121/121\u001b[0m \u001b[32m━━━━━━━━━━━━━━━━━━━━\u001b[0m\u001b[37m\u001b[0m \u001b[1m2s\u001b[0m 15ms/step - accuracy: 0.8764 - loss: 0.3774\n"
          ]
        },
        {
          "output_type": "stream",
          "name": "stderr",
          "text": [
            "WARNING:absl:You are saving your model as an HDF5 file via `model.save()` or `keras.saving.save_model(model)`. This file format is considered legacy. We recommend using instead the native Keras format, e.g. `model.save('my_model.keras')` or `keras.saving.save_model(model, 'my_model.keras')`. \n"
          ]
        },
        {
          "output_type": "stream",
          "name": "stdout",
          "text": [
            "Test Accuracy: 0.8792\n"
          ]
        }
      ]
    },
    {
      "cell_type": "code",
      "source": [
        "import matplotlib.pyplot as plt\n",
        "\n",
        "# Extract accuracy and loss from history\n",
        "acc = history.history['accuracy']\n",
        "val_acc = history.history['val_accuracy']\n",
        "loss = history.history['loss']\n",
        "val_loss = history.history['val_loss']\n",
        "epochs_range = range(1, len(acc) + 1)\n",
        "\n",
        "# Plot accuracy\n",
        "plt.figure(figsize=(12, 5))\n",
        "\n",
        "plt.subplot(1, 2, 1)\n",
        "plt.plot(epochs_range, acc, label='Training Accuracy')\n",
        "plt.plot(epochs_range, val_acc, label='Validation Accuracy')\n",
        "plt.title('Training and Validation Accuracy')\n",
        "plt.xlabel('Epoch')\n",
        "plt.ylabel('Accuracy')\n",
        "plt.legend(loc='lower right')\n",
        "plt.grid(True)\n",
        "\n",
        "# Plot loss\n",
        "plt.subplot(1, 2, 2)\n",
        "plt.plot(epochs_range, loss, label='Training Loss')\n",
        "plt.plot(epochs_range, val_loss, label='Validation Loss')\n",
        "plt.title('Training and Validation Loss')\n",
        "plt.xlabel('Epoch')\n",
        "plt.ylabel('Loss')\n",
        "plt.legend(loc='upper right')\n",
        "plt.grid(True)\n",
        "\n",
        "# Display the plots\n",
        "plt.tight_layout()\n",
        "plt.show()"
      ],
      "metadata": {
        "colab": {
          "base_uri": "https://localhost:8080/",
          "height": 476
        },
        "id": "I7wsxE7U-Sg6",
        "outputId": "2173ba35-36b8-46d0-c429-f9f02f6e3e3b"
      },
      "execution_count": 19,
      "outputs": [
        {
          "output_type": "display_data",
          "data": {
            "text/plain": [
              "<Figure size 1200x500 with 2 Axes>"
            ],
            "image/png": "[encoded data removed]"
          },
          "metadata": {}
        }
      ]
    },
    {
      "cell_type": "code",
      "source": [
        "from sklearn.metrics import confusion_matrix, classification_report\n",
        "import matplotlib.pyplot as plt\n",
        "import seaborn as sns"
      ],
      "metadata": {
        "id": "4DuY7zXX-9pM"
      },
      "execution_count": 26,
      "outputs": []
    },
    {
      "cell_type": "code",
      "source": [
        "# Evaluate the model on the validation set\n",
        "y_pred = model.predict(X_test)\n",
        "y_pred_classes = np.argmax(y_pred, axis=1)"
      ],
      "metadata": {
        "colab": {
          "base_uri": "https://localhost:8080/"
        },
        "id": "QDBW5ftm_KtY",
        "outputId": "9c1f4e51-2295-4854-80f4-89ceacb3d53c"
      },
      "execution_count": 24,
      "outputs": [
        {
          "output_type": "stream",
          "name": "stdout",
          "text": [
            "\u001b[1m121/121\u001b[0m \u001b[32m━━━━━━━━━━━━━━━━━━━━\u001b[0m\u001b[37m\u001b[0m \u001b[1m2s\u001b[0m 14ms/step\n"
          ]
        }
      ]
    },
    {
      "cell_type": "code",
      "source": [
        "fault_types_reverse = {v: k for k, v in fault_types.items()}"
      ],
      "metadata": {
        "id": "vJaBG-ym_i3A"
      },
      "execution_count": 28,
      "outputs": []
    },
    {
      "cell_type": "code",
      "source": [
        "# Compute confusion matrix\n",
        "cm = confusion_matrix(y_test, y_pred_classes)\n",
        "\n",
        "# Plot confusion matrix\n",
        "plt.figure(figsize=(8, 6))\n",
        "sns.heatmap(cm, annot=True, fmt='d', cmap='Blues',\n",
        "            xticklabels=fault_types_reverse.values(),\n",
        "            yticklabels=fault_types_reverse.values())\n",
        "plt.title('Confusion Matrix')\n",
        "plt.xlabel('Predicted')\n",
        "plt.ylabel('True')\n",
        "plt.show()"
      ],
      "metadata": {
        "colab": {
          "base_uri": "https://localhost:8080/",
          "height": 564
        },
        "id": "1qPIUQcL-xsF",
        "outputId": "184919ae-2f3e-40cf-8df5-401eccdba609"
      },
      "execution_count": 29,
      "outputs": [
        {
          "output_type": "display_data",
          "data": {
            "text/plain": [
              "<Figure size 800x600 with 2 Axes>"
            ],
            "image/png": "[encoded data removed]"
          },
          "metadata": {}
        }
      ]
    },
    {
      "cell_type": "code",
      "source": [
        "# Compute and display other evaluation metrics\n",
        "print(\"\\nClassification Report:\")\n",
        "print(classification_report(y_test, y_pred_classes, target_names=fault_types_reverse.values()))\n",
        "\n",
        "# Compute overall metrics\n",
        "val_loss, val_accuracy = model.evaluate(X_test, y_test, verbose=0)\n",
        "print(f\"\\nValidation Loss: {val_loss:.4f}\")\n",
        "print(f\"Validation Accuracy: {val_accuracy:.4f}\")"
      ],
      "metadata": {
        "colab": {
          "base_uri": "https://localhost:8080/"
        },
        "id": "Infq-vqw_zJr",
        "outputId": "df098238-d0ec-4c1b-e150-481d4ca69109"
      },
      "execution_count": 32,
      "outputs": [
        {
          "output_type": "stream",
          "name": "stdout",
          "text": [
            "\n",
            "Classification Report:\n",
            "              precision    recall  f1-score   support\n",
            "\n",
            "      Arcing       0.89      0.92      0.90       750\n",
            "      Corona       0.91      0.91      0.91       996\n",
            "   Looseness       0.91      0.90      0.91      1051\n",
            "    Tracking       0.81      0.80      0.81      1053\n",
            "\n",
            "    accuracy                           0.88      3850\n",
            "   macro avg       0.88      0.88      0.88      3850\n",
            "weighted avg       0.88      0.88      0.88      3850\n",
            "\n",
            "\n",
            "Validation Loss: 0.3894\n",
            "Validation Accuracy: 0.8792\n"
          ]
        }
      ]
    },
    {
      "cell_type": "markdown",
      "source": [
        "**Test on new data**"
      ],
      "metadata": {
        "id": "v4fjru7xAPOT"
      }
    },
    {
      "cell_type": "code",
      "source": [
        "import os\n",
        "import numpy as np\n",
        "import librosa\n",
        "from tensorflow.keras.models import load_model\n",
        "from scipy.ndimage import zoom\n",
        "from collections import Counter\n",
        "import gc\n",
        "\n",
        "# Paths\n",
        "new_audio_dir = '/content/drive/MyDrive/new_test_data'  # Directory for new test data\n",
        "model_path = 'fault_detection.h5'  # Path to the saved CNN model (update if different)\n",
        "\n",
        "new_size = 34  # Target size for the CNN\n",
        "\n",
        "# Fault types (same as training)\n",
        "fault_types = {0: 'Arcing', 1: 'Corona', 2: 'Looseness', 3: 'Tracking'}\n",
        "\n",
        "# Load new test data\n",
        "new_data = []\n",
        "filenames = []\n",
        "\n",
        "for audio_file in os.listdir(new_audio_dir):\n",
        "    if audio_file.endswith('.wav'):\n",
        "        filepath = os.path.join(new_audio_dir, audio_file)\n",
        "        audio, _ = librosa.load(filepath, sr=sr)\n",
        "\n",
        "        # MFCC\n",
        "        mfcc = librosa.feature.mfcc(y=audio, sr=sr, n_mfcc=n_mfcc, n_fft=n_fft, hop_length=hop_length)\n",
        "\n",
        "        # STFT (magnitude and phase)\n",
        "        stft = librosa.stft(audio, n_fft=n_fft, hop_length=hop_length)\n",
        "        stft_mag = librosa.amplitude_to_db(np.abs(stft), ref=np.max)\n",
        "        stft_phase = np.angle(stft)\n",
        "\n",
        "        # Segment into 0.5-second chunks with 20% overlap\n",
        "        for start in range(0, mfcc.shape[1] - chunk_frames + 1, step_size):\n",
        "            end = start + chunk_frames\n",
        "            mfcc_chunk = mfcc[:, start:end]\n",
        "            mag_chunk = stft_mag[:n_mfcc, start:end]  # Crop to match MFCC\n",
        "            phase_chunk = stft_phase[:n_mfcc, start:end]\n",
        "\n",
        "            # Pad if the chunk is too short\n",
        "            if mfcc_chunk.shape[1] < chunk_frames:\n",
        "                mfcc_chunk = np.pad(mfcc_chunk, ((0, 0), (0, chunk_frames - mfcc_chunk.shape[1])), mode='constant')\n",
        "                mag_chunk = np.pad(mag_chunk, ((0, 0), (0, chunk_frames - mag_chunk.shape[1])), mode='constant')\n",
        "                phase_chunk = np.pad(phase_chunk, ((0, 0), (0, chunk_frames - phase_chunk.shape[1])), mode='constant')\n",
        "\n",
        "            chunk = np.stack((mfcc_chunk, mag_chunk, phase_chunk), axis=-1)\n",
        "            new_data.append(chunk)\n",
        "            filenames.append(audio_file)\n",
        "\n",
        "# Convert to NumPy array\n",
        "new_data = np.array(new_data)\n",
        "print(f\"Processed {len(new_data)} chunks.\")\n",
        "\n",
        "# Normalize each channel (same as training)\n",
        "for channel in range(3):\n",
        "    new_data[:, :, :, channel] = (new_data[:, :, :, channel] - np.mean(new_data[:, :, :, channel])) / np.std(new_data[:, :, :, channel])\n",
        "\n",
        "# Transform rectangular [13, 43, 3] to square [34, 34, 3] using interpolation\n",
        "num_samples = new_data.shape[0]\n",
        "original_height, original_width = new_data.shape[1], new_data.shape[2]  # 13, 43\n",
        "square_new_data = np.zeros((num_samples, new_size, new_size, 3), dtype=np.float32)  # [num_samples, 34, 34, 3]\n",
        "\n",
        "# Calculate zoom factors\n",
        "zoom_factor_height = new_size / original_height  # 34 / 13 ≈ 2.615\n",
        "zoom_factor_width = new_size / original_width    # 34 / 43 ≈ 0.791\n",
        "\n",
        "for i in range(num_samples):\n",
        "    for channel in range(3):\n",
        "        img = new_data[i, :, :, channel]  # [13, 43]\n",
        "        # Resize using interpolation (bicubic)\n",
        "        resized = zoom(img, (zoom_factor_height, zoom_factor_width), order=3)  # [34, 34]\n",
        "        square_new_data[i, :, :, channel] = resized\n",
        "\n"
      ],
      "metadata": {
        "colab": {
          "base_uri": "https://localhost:8080/"
        },
        "collapsed": true,
        "id": "OIEOTCn0Bh9x",
        "outputId": "bed520eb-ec16-4b98-8d96-eea302e4f7e9"
      },
      "execution_count": 33,
      "outputs": [
        {
          "output_type": "stream",
          "name": "stdout",
          "text": [
            "Processed 399 chunks.\n"
          ]
        }
      ]
    },
    {
      "cell_type": "code",
      "source": [
        "# Make predictions\n",
        "predictions = model.predict(square_new_data, batch_size=16)\n",
        "predicted_classes = np.argmax(predictions, axis=1)\n",
        "# Convert NumPy integers to Python integers\n",
        "predicted_faults = [fault_types[int(pred)] for pred in predicted_classes]\n",
        "\n",
        "# Print per-chunk predictions\n",
        "for i, (filename, fault) in enumerate(zip(filenames, predicted_faults)):\n",
        "    chunks_per_file = len([f for f in filenames if f == filename])\n",
        "    chunk_num = (i % chunks_per_file) + 1\n",
        "    print(f\"File: {filename}, Chunk {chunk_num}: Predicted Fault = {fault}\")\n",
        "\n",
        "# Aggregate predictions per file\n",
        "file_predictions = {}\n",
        "for filename, fault in zip(filenames, predicted_faults):\n",
        "    if filename not in file_predictions:\n",
        "        file_predictions[filename] = []\n",
        "    file_predictions[filename].append(fault)\n",
        "\n",
        "for filename, faults in file_predictions.items():\n",
        "    most_common_fault = Counter(faults).most_common(1)[0][0]\n",
        "    print(f\"File: {filename}, Overall Predicted Fault = {most_common_fault}\")\n",
        "\n",
        "# Clean up\n",
        "del new_data, square_new_data\n",
        "gc.collect()"
      ],
      "metadata": {
        "colab": {
          "base_uri": "https://localhost:8080/"
        },
        "id": "0hSZW0QaSiFg",
        "outputId": "fd720737-87f8-4f86-ff43-b325b9a30e6c",
        "collapsed": true
      },
      "execution_count": 34,
      "outputs": [
        {
          "output_type": "stream",
          "name": "stdout",
          "text": [
            "\u001b[1m25/25\u001b[0m \u001b[32m━━━━━━━━━━━━━━━━━━━━\u001b[0m\u001b[37m\u001b[0m \u001b[1m0s\u001b[0m 9ms/step\n",
            "File: Arcing (1).wav, Chunk 1: Predicted Fault = Corona\n",
            "File: Arcing (1).wav, Chunk 2: Predicted Fault = Arcing\n",
            "File: Arcing (1).wav, Chunk 3: Predicted Fault = Arcing\n",
            "File: Arcing (1).wav, Chunk 4: Predicted Fault = Tracking\n",
            "File: Arcing (1).wav, Chunk 5: Predicted Fault = Arcing\n",
            "File: Arcing (1).wav, Chunk 6: Predicted Fault = Arcing\n",
            "File: Arcing (1).wav, Chunk 7: Predicted Fault = Tracking\n",
            "File: Arcing (1).wav, Chunk 8: Predicted Fault = Arcing\n",
            "File: Arcing (1).wav, Chunk 9: Predicted Fault = Arcing\n",
            "File: Arcing (1).wav, Chunk 10: Predicted Fault = Arcing\n",
            "File: Arcing (1).wav, Chunk 11: Predicted Fault = Arcing\n",
            "File: Arcing (1).wav, Chunk 12: Predicted Fault = Arcing\n",
            "File: Arcing (1).wav, Chunk 13: Predicted Fault = Arcing\n",
            "File: Arcing (1).wav, Chunk 14: Predicted Fault = Arcing\n",
            "File: Arcing (1).wav, Chunk 15: Predicted Fault = Looseness\n",
            "File: Arcing (1).wav, Chunk 16: Predicted Fault = Tracking\n",
            "File: Arcing (1).wav, Chunk 17: Predicted Fault = Arcing\n",
            "File: Arcing (1).wav, Chunk 18: Predicted Fault = Arcing\n",
            "File: Arcing (1).wav, Chunk 19: Predicted Fault = Arcing\n",
            "File: Arcing (1).wav, Chunk 20: Predicted Fault = Arcing\n",
            "File: Arcing (1).wav, Chunk 21: Predicted Fault = Arcing\n",
            "File: Arcing (1).wav, Chunk 22: Predicted Fault = Arcing\n",
            "File: Arcing (1).wav, Chunk 23: Predicted Fault = Looseness\n",
            "File: Arcing (1).wav, Chunk 24: Predicted Fault = Arcing\n",
            "File: Arcing (1).wav, Chunk 25: Predicted Fault = Arcing\n",
            "File: Arcing (1).wav, Chunk 26: Predicted Fault = Arcing\n",
            "File: Arcing (1).wav, Chunk 27: Predicted Fault = Looseness\n",
            "File: Arcing (1).wav, Chunk 28: Predicted Fault = Corona\n",
            "File: Arcing (1).wav, Chunk 29: Predicted Fault = Looseness\n",
            "File: Arcing (1).wav, Chunk 30: Predicted Fault = Arcing\n",
            "File: Arcing (1).wav, Chunk 31: Predicted Fault = Arcing\n",
            "File: Arcing (1).wav, Chunk 32: Predicted Fault = Arcing\n",
            "File: Arcing (1).wav, Chunk 33: Predicted Fault = Arcing\n",
            "File: Arcing (1).wav, Chunk 34: Predicted Fault = Arcing\n",
            "File: Arcing (1).wav, Chunk 35: Predicted Fault = Arcing\n",
            "File: Arcing (1).wav, Chunk 36: Predicted Fault = Arcing\n",
            "File: Arcing (1).wav, Chunk 37: Predicted Fault = Arcing\n",
            "File: Arcing (1).wav, Chunk 38: Predicted Fault = Looseness\n",
            "File: Arcing (1).wav, Chunk 39: Predicted Fault = Arcing\n",
            "File: Arcing (1).wav, Chunk 40: Predicted Fault = Arcing\n",
            "File: Arcing (1).wav, Chunk 41: Predicted Fault = Tracking\n",
            "File: Arcing (1).wav, Chunk 42: Predicted Fault = Arcing\n",
            "File: Arcing (1).wav, Chunk 43: Predicted Fault = Arcing\n",
            "File: Arcing (1).wav, Chunk 44: Predicted Fault = Arcing\n",
            "File: Arcing (1).wav, Chunk 45: Predicted Fault = Looseness\n",
            "File: Arcing (1).wav, Chunk 46: Predicted Fault = Arcing\n",
            "File: Arcing (1).wav, Chunk 47: Predicted Fault = Arcing\n",
            "File: Arcing (1).wav, Chunk 48: Predicted Fault = Arcing\n",
            "File: Arcing (1).wav, Chunk 49: Predicted Fault = Arcing\n",
            "File: Arcing (1).wav, Chunk 50: Predicted Fault = Looseness\n",
            "File: Arcing (1).wav, Chunk 51: Predicted Fault = Arcing\n",
            "File: Arcing (1).wav, Chunk 52: Predicted Fault = Tracking\n",
            "File: Arcing (1).wav, Chunk 53: Predicted Fault = Arcing\n",
            "File: Arcing (1).wav, Chunk 54: Predicted Fault = Arcing\n",
            "File: Arcing (1).wav, Chunk 55: Predicted Fault = Arcing\n",
            "File: Arcing (1).wav, Chunk 56: Predicted Fault = Arcing\n",
            "File: Arcing (1).wav, Chunk 57: Predicted Fault = Arcing\n",
            "File: Arcing (1).wav, Chunk 58: Predicted Fault = Arcing\n",
            "File: Arcing (1).wav, Chunk 59: Predicted Fault = Arcing\n",
            "File: Arcing (1).wav, Chunk 60: Predicted Fault = Arcing\n",
            "File: Arcing (1).wav, Chunk 61: Predicted Fault = Arcing\n",
            "File: Arcing (1).wav, Chunk 62: Predicted Fault = Looseness\n",
            "File: Arcing (1).wav, Chunk 63: Predicted Fault = Arcing\n",
            "File: Arcing (1).wav, Chunk 64: Predicted Fault = Arcing\n",
            "File: Arcing (1).wav, Chunk 65: Predicted Fault = Arcing\n",
            "File: Arcing (1).wav, Chunk 66: Predicted Fault = Arcing\n",
            "File: Arcing (1).wav, Chunk 67: Predicted Fault = Corona\n",
            "File: Arcing (1).wav, Chunk 68: Predicted Fault = Arcing\n",
            "File: Arcing (1).wav, Chunk 69: Predicted Fault = Arcing\n",
            "File: Arcing (1).wav, Chunk 70: Predicted Fault = Corona\n",
            "File: Arcing (1).wav, Chunk 71: Predicted Fault = Arcing\n",
            "File: Arcing (1).wav, Chunk 72: Predicted Fault = Arcing\n",
            "File: Arcing (1).wav, Chunk 73: Predicted Fault = Arcing\n",
            "File: Arcing (1).wav, Chunk 74: Predicted Fault = Arcing\n",
            "File: Arcing (1).wav, Chunk 75: Predicted Fault = Arcing\n",
            "File: Arcing (1).wav, Chunk 76: Predicted Fault = Arcing\n",
            "File: Arcing (1).wav, Chunk 77: Predicted Fault = Looseness\n",
            "File: Arcing (1).wav, Chunk 78: Predicted Fault = Arcing\n",
            "File: Arcing (1).wav, Chunk 79: Predicted Fault = Arcing\n",
            "File: Arcing (1).wav, Chunk 80: Predicted Fault = Tracking\n",
            "File: Arcing (1).wav, Chunk 81: Predicted Fault = Arcing\n",
            "File: Arcing (1).wav, Chunk 82: Predicted Fault = Arcing\n",
            "File: Arcing (1).wav, Chunk 83: Predicted Fault = Arcing\n",
            "File: Arcing (1).wav, Chunk 84: Predicted Fault = Arcing\n",
            "File: Arcing (1).wav, Chunk 85: Predicted Fault = Looseness\n",
            "File: Arcing (1).wav, Chunk 86: Predicted Fault = Arcing\n",
            "File: Arcing (1).wav, Chunk 87: Predicted Fault = Arcing\n",
            "File: Arcing (1).wav, Chunk 88: Predicted Fault = Arcing\n",
            "File: Arcing (1).wav, Chunk 89: Predicted Fault = Arcing\n",
            "File: Arcing (1).wav, Chunk 90: Predicted Fault = Arcing\n",
            "File: Arcing (1).wav, Chunk 91: Predicted Fault = Arcing\n",
            "File: Arcing (1).wav, Chunk 92: Predicted Fault = Arcing\n",
            "File: Arcing (1).wav, Chunk 93: Predicted Fault = Arcing\n",
            "File: Arcing (1).wav, Chunk 94: Predicted Fault = Looseness\n",
            "File: Arcing (1).wav, Chunk 95: Predicted Fault = Arcing\n",
            "File: Arcing (1).wav, Chunk 96: Predicted Fault = Arcing\n",
            "File: Arcing (1).wav, Chunk 97: Predicted Fault = Arcing\n",
            "File: Arcing (1).wav, Chunk 98: Predicted Fault = Arcing\n",
            "File: Arcing (1).wav, Chunk 99: Predicted Fault = Arcing\n",
            "File: Arcing (1).wav, Chunk 100: Predicted Fault = Looseness\n",
            "File: Arcing (1).wav, Chunk 101: Predicted Fault = Arcing\n",
            "File: Arcing (1).wav, Chunk 102: Predicted Fault = Arcing\n",
            "File: Arcing (1).wav, Chunk 103: Predicted Fault = Looseness\n",
            "File: Arcing (1).wav, Chunk 104: Predicted Fault = Arcing\n",
            "File: Arcing (1).wav, Chunk 105: Predicted Fault = Arcing\n",
            "File: Arcing (1).wav, Chunk 106: Predicted Fault = Arcing\n",
            "File: Arcing (1).wav, Chunk 107: Predicted Fault = Arcing\n",
            "File: Arcing (1).wav, Chunk 108: Predicted Fault = Arcing\n",
            "File: Arcing (1).wav, Chunk 109: Predicted Fault = Arcing\n",
            "File: Arcing (1).wav, Chunk 110: Predicted Fault = Arcing\n",
            "File: Arcing (1).wav, Chunk 111: Predicted Fault = Arcing\n",
            "File: Arcing (1).wav, Chunk 112: Predicted Fault = Tracking\n",
            "File: Arcing (1).wav, Chunk 113: Predicted Fault = Arcing\n",
            "File: Arcing (1).wav, Chunk 114: Predicted Fault = Looseness\n",
            "File: Arcing (1).wav, Chunk 115: Predicted Fault = Arcing\n",
            "File: Arcing (1).wav, Chunk 116: Predicted Fault = Arcing\n",
            "File: Arcing (1).wav, Chunk 117: Predicted Fault = Arcing\n",
            "File: Arcing (1).wav, Chunk 118: Predicted Fault = Arcing\n",
            "File: Arcing (1).wav, Chunk 119: Predicted Fault = Arcing\n",
            "File: Arcing (1).wav, Chunk 120: Predicted Fault = Arcing\n",
            "File: Arcing (1).wav, Chunk 121: Predicted Fault = Arcing\n",
            "File: Arcing (1).wav, Chunk 122: Predicted Fault = Arcing\n",
            "File: Arcing (1).wav, Chunk 123: Predicted Fault = Looseness\n",
            "File: Arcing (1).wav, Chunk 124: Predicted Fault = Arcing\n",
            "File: Arcing (1).wav, Chunk 125: Predicted Fault = Looseness\n",
            "File: Arcing (1).wav, Chunk 126: Predicted Fault = Looseness\n",
            "File: Arcing (1).wav, Chunk 127: Predicted Fault = Arcing\n",
            "File: Arcing (1).wav, Chunk 128: Predicted Fault = Arcing\n",
            "File: Arcing (1).wav, Chunk 129: Predicted Fault = Arcing\n",
            "File: Arcing (1).wav, Chunk 130: Predicted Fault = Arcing\n",
            "File: Arcing (1).wav, Chunk 131: Predicted Fault = Arcing\n",
            "File: Arcing (1).wav, Chunk 132: Predicted Fault = Corona\n",
            "File: Arcing (1).wav, Chunk 133: Predicted Fault = Corona\n",
            "File: Arcing (1).wav, Chunk 134: Predicted Fault = Looseness\n",
            "File: Arcing (1).wav, Chunk 135: Predicted Fault = Arcing\n",
            "File: Arcing (1).wav, Chunk 136: Predicted Fault = Arcing\n",
            "File: Arcing (1).wav, Chunk 137: Predicted Fault = Arcing\n",
            "File: Arcing (1).wav, Chunk 138: Predicted Fault = Arcing\n",
            "File: Arcing (1).wav, Chunk 139: Predicted Fault = Arcing\n",
            "File: Arcing (1).wav, Chunk 140: Predicted Fault = Arcing\n",
            "File: Arcing (1).wav, Chunk 141: Predicted Fault = Arcing\n",
            "File: Arcing (1).wav, Chunk 142: Predicted Fault = Looseness\n",
            "File: Arcing (1).wav, Chunk 143: Predicted Fault = Arcing\n",
            "File: Arcing (1).wav, Chunk 144: Predicted Fault = Arcing\n",
            "File: Arcing (1).wav, Chunk 145: Predicted Fault = Arcing\n",
            "File: Arcing (1).wav, Chunk 146: Predicted Fault = Arcing\n",
            "File: Arcing (1).wav, Chunk 147: Predicted Fault = Arcing\n",
            "File: Arcing (1).wav, Chunk 148: Predicted Fault = Arcing\n",
            "File: Arcing (1).wav, Chunk 149: Predicted Fault = Arcing\n",
            "File: Arcing (1).wav, Chunk 150: Predicted Fault = Arcing\n",
            "File: Arcing (1).wav, Chunk 151: Predicted Fault = Arcing\n",
            "File: Arcing (1).wav, Chunk 152: Predicted Fault = Arcing\n",
            "File: Arcing (1).wav, Chunk 153: Predicted Fault = Arcing\n",
            "File: Arcing (1).wav, Chunk 154: Predicted Fault = Arcing\n",
            "File: Arcing (1).wav, Chunk 155: Predicted Fault = Arcing\n",
            "File: Arcing (1).wav, Chunk 156: Predicted Fault = Arcing\n",
            "File: Arcing (1).wav, Chunk 157: Predicted Fault = Arcing\n",
            "File: Arcing (1).wav, Chunk 158: Predicted Fault = Arcing\n",
            "File: Arcing (1).wav, Chunk 159: Predicted Fault = Looseness\n",
            "File: Arcing (1).wav, Chunk 160: Predicted Fault = Arcing\n",
            "File: Arcing (1).wav, Chunk 161: Predicted Fault = Arcing\n",
            "File: Arcing (1).wav, Chunk 162: Predicted Fault = Arcing\n",
            "File: Arcing (1).wav, Chunk 163: Predicted Fault = Arcing\n",
            "File: Arcing (1).wav, Chunk 164: Predicted Fault = Arcing\n",
            "File: Arcing (1).wav, Chunk 165: Predicted Fault = Looseness\n",
            "File: Arcing (1).wav, Chunk 166: Predicted Fault = Arcing\n",
            "File: Arcing (1).wav, Chunk 167: Predicted Fault = Arcing\n",
            "File: Arcing (1).wav, Chunk 168: Predicted Fault = Arcing\n",
            "File: Arcing (1).wav, Chunk 169: Predicted Fault = Arcing\n",
            "File: Arcing (1).wav, Chunk 170: Predicted Fault = Arcing\n",
            "File: Arcing (1).wav, Chunk 171: Predicted Fault = Arcing\n",
            "File: Arcing (1).wav, Chunk 172: Predicted Fault = Arcing\n",
            "File: Arcing (1).wav, Chunk 173: Predicted Fault = Arcing\n",
            "File: Arcing (1).wav, Chunk 174: Predicted Fault = Arcing\n",
            "File: Arcing (1).wav, Chunk 175: Predicted Fault = Arcing\n",
            "File: Arcing (1).wav, Chunk 176: Predicted Fault = Arcing\n",
            "File: Arcing (1).wav, Chunk 177: Predicted Fault = Arcing\n",
            "File: Arcing (1).wav, Chunk 178: Predicted Fault = Arcing\n",
            "File: Arcing (1).wav, Chunk 179: Predicted Fault = Arcing\n",
            "File: Arcing (1).wav, Chunk 180: Predicted Fault = Arcing\n",
            "File: Arcing (1).wav, Chunk 181: Predicted Fault = Arcing\n",
            "File: Arcing (1).wav, Chunk 182: Predicted Fault = Arcing\n",
            "File: Arcing (1).wav, Chunk 183: Predicted Fault = Arcing\n",
            "File: Arcing (1).wav, Chunk 184: Predicted Fault = Arcing\n",
            "File: Arcing (1).wav, Chunk 185: Predicted Fault = Arcing\n",
            "File: Arcing (1).wav, Chunk 186: Predicted Fault = Arcing\n",
            "File: Arcing (1).wav, Chunk 187: Predicted Fault = Arcing\n",
            "File: Arcing (1).wav, Chunk 188: Predicted Fault = Arcing\n",
            "File: Arcing (1).wav, Chunk 189: Predicted Fault = Arcing\n",
            "File: Arcing (1).wav, Chunk 190: Predicted Fault = Arcing\n",
            "File: Arcing (1).wav, Chunk 191: Predicted Fault = Arcing\n",
            "File: Arcing (1).wav, Chunk 192: Predicted Fault = Arcing\n",
            "File: Arcing (1).wav, Chunk 193: Predicted Fault = Arcing\n",
            "File: Arcing (1).wav, Chunk 194: Predicted Fault = Arcing\n",
            "File: Arcing (1).wav, Chunk 195: Predicted Fault = Arcing\n",
            "File: Arcing (1).wav, Chunk 196: Predicted Fault = Arcing\n",
            "File: Arcing (1).wav, Chunk 197: Predicted Fault = Arcing\n",
            "File: Arcing (1).wav, Chunk 198: Predicted Fault = Looseness\n",
            "File: Arcing (1).wav, Chunk 199: Predicted Fault = Tracking\n",
            "File: Arcing (1).wav, Chunk 200: Predicted Fault = Arcing\n",
            "File: Arcing (1).wav, Chunk 201: Predicted Fault = Arcing\n",
            "File: Arcing (1).wav, Chunk 202: Predicted Fault = Arcing\n",
            "File: Arcing (1).wav, Chunk 203: Predicted Fault = Arcing\n",
            "File: Arcing (1).wav, Chunk 204: Predicted Fault = Arcing\n",
            "File: Arcing (1).wav, Chunk 205: Predicted Fault = Arcing\n",
            "File: Arcing (1).wav, Chunk 206: Predicted Fault = Corona\n",
            "File: Arcing (1).wav, Chunk 207: Predicted Fault = Arcing\n",
            "File: Arcing (1).wav, Chunk 208: Predicted Fault = Tracking\n",
            "File: Arcing (1).wav, Chunk 209: Predicted Fault = Arcing\n",
            "File: Arcing (1).wav, Chunk 210: Predicted Fault = Looseness\n",
            "File: Arcing (1).wav, Chunk 211: Predicted Fault = Arcing\n",
            "File: Arcing (1).wav, Chunk 212: Predicted Fault = Arcing\n",
            "File: Arcing (1).wav, Chunk 213: Predicted Fault = Arcing\n",
            "File: Arcing (1).wav, Chunk 214: Predicted Fault = Arcing\n",
            "File: Arcing (1).wav, Chunk 215: Predicted Fault = Arcing\n",
            "File: Arcing (1).wav, Chunk 216: Predicted Fault = Arcing\n",
            "File: Arcing (1).wav, Chunk 217: Predicted Fault = Arcing\n",
            "File: Arcing (1).wav, Chunk 218: Predicted Fault = Corona\n",
            "File: Arcing (1).wav, Chunk 219: Predicted Fault = Looseness\n",
            "File: Arcing (1).wav, Chunk 220: Predicted Fault = Arcing\n",
            "File: Arcing (1).wav, Chunk 221: Predicted Fault = Arcing\n",
            "File: Arcing (1).wav, Chunk 222: Predicted Fault = Arcing\n",
            "File: Arcing (1).wav, Chunk 223: Predicted Fault = Arcing\n",
            "File: Arcing (1).wav, Chunk 224: Predicted Fault = Arcing\n",
            "File: Arcing (1).wav, Chunk 225: Predicted Fault = Arcing\n",
            "File: Arcing (1).wav, Chunk 226: Predicted Fault = Arcing\n",
            "File: Arcing (1).wav, Chunk 227: Predicted Fault = Arcing\n",
            "File: Arcing (1).wav, Chunk 228: Predicted Fault = Arcing\n",
            "File: Arcing (1).wav, Chunk 229: Predicted Fault = Arcing\n",
            "File: Arcing (1).wav, Chunk 230: Predicted Fault = Arcing\n",
            "File: Arcing (1).wav, Chunk 231: Predicted Fault = Arcing\n",
            "File: Arcing (1).wav, Chunk 232: Predicted Fault = Arcing\n",
            "File: Arcing (1).wav, Chunk 233: Predicted Fault = Tracking\n",
            "File: Arcing (1).wav, Chunk 234: Predicted Fault = Arcing\n",
            "File: Arcing (1).wav, Chunk 235: Predicted Fault = Arcing\n",
            "File: Arcing (1).wav, Chunk 236: Predicted Fault = Arcing\n",
            "File: Arcing (1).wav, Chunk 237: Predicted Fault = Looseness\n",
            "File: Arcing (1).wav, Chunk 238: Predicted Fault = Arcing\n",
            "File: Arcing (1).wav, Chunk 239: Predicted Fault = Looseness\n",
            "File: Arcing (1).wav, Chunk 240: Predicted Fault = Arcing\n",
            "File: Arcing (1).wav, Chunk 241: Predicted Fault = Arcing\n",
            "File: Arcing (1).wav, Chunk 242: Predicted Fault = Arcing\n",
            "File: Corona (11).wav, Chunk 86: Predicted Fault = Corona\n",
            "File: Corona (11).wav, Chunk 87: Predicted Fault = Corona\n",
            "File: Corona (11).wav, Chunk 88: Predicted Fault = Corona\n",
            "File: Corona (11).wav, Chunk 89: Predicted Fault = Corona\n",
            "File: Corona (11).wav, Chunk 90: Predicted Fault = Corona\n",
            "File: Corona (11).wav, Chunk 91: Predicted Fault = Corona\n",
            "File: Corona (11).wav, Chunk 92: Predicted Fault = Arcing\n",
            "File: Corona (11).wav, Chunk 93: Predicted Fault = Corona\n",
            "File: Corona (11).wav, Chunk 94: Predicted Fault = Tracking\n",
            "File: Corona (11).wav, Chunk 95: Predicted Fault = Corona\n",
            "File: Corona (11).wav, Chunk 96: Predicted Fault = Corona\n",
            "File: Corona (11).wav, Chunk 97: Predicted Fault = Corona\n",
            "File: Corona (11).wav, Chunk 98: Predicted Fault = Corona\n",
            "File: Corona (11).wav, Chunk 99: Predicted Fault = Corona\n",
            "File: Corona (11).wav, Chunk 100: Predicted Fault = Corona\n",
            "File: Corona (11).wav, Chunk 101: Predicted Fault = Corona\n",
            "File: Corona (11).wav, Chunk 102: Predicted Fault = Corona\n",
            "File: Corona (11).wav, Chunk 103: Predicted Fault = Corona\n",
            "File: Corona (11).wav, Chunk 104: Predicted Fault = Corona\n",
            "File: Corona (11).wav, Chunk 105: Predicted Fault = Corona\n",
            "File: Corona (11).wav, Chunk 106: Predicted Fault = Corona\n",
            "File: Corona (11).wav, Chunk 107: Predicted Fault = Corona\n",
            "File: Corona (11).wav, Chunk 108: Predicted Fault = Corona\n",
            "File: Corona (11).wav, Chunk 109: Predicted Fault = Corona\n",
            "File: Corona (11).wav, Chunk 110: Predicted Fault = Corona\n",
            "File: Corona (11).wav, Chunk 111: Predicted Fault = Corona\n",
            "File: Corona (11).wav, Chunk 112: Predicted Fault = Corona\n",
            "File: Corona (11).wav, Chunk 113: Predicted Fault = Corona\n",
            "File: Corona (11).wav, Chunk 114: Predicted Fault = Corona\n",
            "File: Corona (11).wav, Chunk 115: Predicted Fault = Corona\n",
            "File: Corona (11).wav, Chunk 116: Predicted Fault = Corona\n",
            "File: Corona (11).wav, Chunk 117: Predicted Fault = Corona\n",
            "File: Corona (11).wav, Chunk 118: Predicted Fault = Corona\n",
            "File: Corona (11).wav, Chunk 119: Predicted Fault = Corona\n",
            "File: Corona (11).wav, Chunk 120: Predicted Fault = Corona\n",
            "File: Corona (11).wav, Chunk 121: Predicted Fault = Corona\n",
            "File: Corona (11).wav, Chunk 122: Predicted Fault = Corona\n",
            "File: Corona (11).wav, Chunk 123: Predicted Fault = Corona\n",
            "File: Corona (11).wav, Chunk 124: Predicted Fault = Corona\n",
            "File: Corona (11).wav, Chunk 125: Predicted Fault = Corona\n",
            "File: Corona (11).wav, Chunk 126: Predicted Fault = Corona\n",
            "File: Corona (11).wav, Chunk 127: Predicted Fault = Corona\n",
            "File: Corona (11).wav, Chunk 128: Predicted Fault = Corona\n",
            "File: Corona (11).wav, Chunk 129: Predicted Fault = Corona\n",
            "File: Corona (11).wav, Chunk 130: Predicted Fault = Corona\n",
            "File: Corona (11).wav, Chunk 131: Predicted Fault = Corona\n",
            "File: Corona (11).wav, Chunk 132: Predicted Fault = Corona\n",
            "File: Corona (11).wav, Chunk 133: Predicted Fault = Corona\n",
            "File: Corona (11).wav, Chunk 134: Predicted Fault = Corona\n",
            "File: Corona (11).wav, Chunk 135: Predicted Fault = Corona\n",
            "File: Corona (11).wav, Chunk 136: Predicted Fault = Corona\n",
            "File: Corona (11).wav, Chunk 137: Predicted Fault = Corona\n",
            "File: Corona (11).wav, Chunk 138: Predicted Fault = Corona\n",
            "File: Corona (11).wav, Chunk 139: Predicted Fault = Corona\n",
            "File: Corona (11).wav, Chunk 140: Predicted Fault = Corona\n",
            "File: Corona (11).wav, Chunk 141: Predicted Fault = Corona\n",
            "File: Corona (11).wav, Chunk 142: Predicted Fault = Corona\n",
            "File: Corona (11).wav, Chunk 143: Predicted Fault = Corona\n",
            "File: Corona (11).wav, Chunk 144: Predicted Fault = Corona\n",
            "File: Corona (11).wav, Chunk 145: Predicted Fault = Corona\n",
            "File: Corona (11).wav, Chunk 146: Predicted Fault = Corona\n",
            "File: Corona (11).wav, Chunk 147: Predicted Fault = Corona\n",
            "File: Corona (11).wav, Chunk 148: Predicted Fault = Corona\n",
            "File: Corona (11).wav, Chunk 149: Predicted Fault = Corona\n",
            "File: Corona (11).wav, Chunk 150: Predicted Fault = Corona\n",
            "File: Corona (11).wav, Chunk 151: Predicted Fault = Corona\n",
            "File: Corona (11).wav, Chunk 152: Predicted Fault = Corona\n",
            "File: Corona (11).wav, Chunk 153: Predicted Fault = Corona\n",
            "File: Corona (11).wav, Chunk 154: Predicted Fault = Corona\n",
            "File: Corona (11).wav, Chunk 155: Predicted Fault = Corona\n",
            "File: Corona (11).wav, Chunk 156: Predicted Fault = Corona\n",
            "File: Corona (11).wav, Chunk 157: Predicted Fault = Corona\n",
            "File: Corona (11).wav, Chunk 1: Predicted Fault = Corona\n",
            "File: Corona (11).wav, Chunk 2: Predicted Fault = Corona\n",
            "File: Corona (11).wav, Chunk 3: Predicted Fault = Corona\n",
            "File: Corona (11).wav, Chunk 4: Predicted Fault = Corona\n",
            "File: Corona (11).wav, Chunk 5: Predicted Fault = Corona\n",
            "File: Corona (11).wav, Chunk 6: Predicted Fault = Corona\n",
            "File: Corona (11).wav, Chunk 7: Predicted Fault = Corona\n",
            "File: Corona (11).wav, Chunk 8: Predicted Fault = Corona\n",
            "File: Corona (11).wav, Chunk 9: Predicted Fault = Corona\n",
            "File: Corona (11).wav, Chunk 10: Predicted Fault = Corona\n",
            "File: Corona (11).wav, Chunk 11: Predicted Fault = Corona\n",
            "File: Corona (11).wav, Chunk 12: Predicted Fault = Corona\n",
            "File: Corona (11).wav, Chunk 13: Predicted Fault = Corona\n",
            "File: Corona (11).wav, Chunk 14: Predicted Fault = Corona\n",
            "File: Corona (11).wav, Chunk 15: Predicted Fault = Corona\n",
            "File: Corona (11).wav, Chunk 16: Predicted Fault = Corona\n",
            "File: Corona (11).wav, Chunk 17: Predicted Fault = Corona\n",
            "File: Corona (11).wav, Chunk 18: Predicted Fault = Corona\n",
            "File: Corona (11).wav, Chunk 19: Predicted Fault = Corona\n",
            "File: Corona (11).wav, Chunk 20: Predicted Fault = Corona\n",
            "File: Corona (11).wav, Chunk 21: Predicted Fault = Corona\n",
            "File: Corona (11).wav, Chunk 22: Predicted Fault = Corona\n",
            "File: Corona (11).wav, Chunk 23: Predicted Fault = Corona\n",
            "File: Corona (11).wav, Chunk 24: Predicted Fault = Corona\n",
            "File: Corona (11).wav, Chunk 25: Predicted Fault = Corona\n",
            "File: Corona (11).wav, Chunk 26: Predicted Fault = Corona\n",
            "File: Corona (11).wav, Chunk 27: Predicted Fault = Corona\n",
            "File: Corona (11).wav, Chunk 28: Predicted Fault = Corona\n",
            "File: Corona (11).wav, Chunk 29: Predicted Fault = Corona\n",
            "File: Corona (11).wav, Chunk 30: Predicted Fault = Corona\n",
            "File: Corona (11).wav, Chunk 31: Predicted Fault = Corona\n",
            "File: Corona (11).wav, Chunk 32: Predicted Fault = Corona\n",
            "File: Corona (11).wav, Chunk 33: Predicted Fault = Corona\n",
            "File: Corona (11).wav, Chunk 34: Predicted Fault = Corona\n",
            "File: Corona (11).wav, Chunk 35: Predicted Fault = Corona\n",
            "File: Corona (11).wav, Chunk 36: Predicted Fault = Corona\n",
            "File: Corona (11).wav, Chunk 37: Predicted Fault = Corona\n",
            "File: Corona (11).wav, Chunk 38: Predicted Fault = Corona\n",
            "File: Corona (11).wav, Chunk 39: Predicted Fault = Corona\n",
            "File: Corona (11).wav, Chunk 40: Predicted Fault = Corona\n",
            "File: Corona (11).wav, Chunk 41: Predicted Fault = Corona\n",
            "File: Corona (11).wav, Chunk 42: Predicted Fault = Corona\n",
            "File: Corona (11).wav, Chunk 43: Predicted Fault = Corona\n",
            "File: Corona (11).wav, Chunk 44: Predicted Fault = Corona\n",
            "File: Corona (11).wav, Chunk 45: Predicted Fault = Corona\n",
            "File: Corona (11).wav, Chunk 46: Predicted Fault = Corona\n",
            "File: Corona (11).wav, Chunk 47: Predicted Fault = Arcing\n",
            "File: Corona (11).wav, Chunk 48: Predicted Fault = Corona\n",
            "File: Corona (11).wav, Chunk 49: Predicted Fault = Corona\n",
            "File: Corona (11).wav, Chunk 50: Predicted Fault = Corona\n",
            "File: Corona (11).wav, Chunk 51: Predicted Fault = Corona\n",
            "File: Corona (11).wav, Chunk 52: Predicted Fault = Corona\n",
            "File: Corona (11).wav, Chunk 53: Predicted Fault = Looseness\n",
            "File: Corona (11).wav, Chunk 54: Predicted Fault = Corona\n",
            "File: Corona (11).wav, Chunk 55: Predicted Fault = Corona\n",
            "File: Corona (11).wav, Chunk 56: Predicted Fault = Corona\n",
            "File: Corona (11).wav, Chunk 57: Predicted Fault = Corona\n",
            "File: Corona (11).wav, Chunk 58: Predicted Fault = Corona\n",
            "File: Corona (11).wav, Chunk 59: Predicted Fault = Corona\n",
            "File: Corona (11).wav, Chunk 60: Predicted Fault = Corona\n",
            "File: Corona (11).wav, Chunk 61: Predicted Fault = Corona\n",
            "File: Corona (11).wav, Chunk 62: Predicted Fault = Corona\n",
            "File: Corona (11).wav, Chunk 63: Predicted Fault = Corona\n",
            "File: Corona (11).wav, Chunk 64: Predicted Fault = Corona\n",
            "File: Corona (11).wav, Chunk 65: Predicted Fault = Arcing\n",
            "File: Corona (11).wav, Chunk 66: Predicted Fault = Corona\n",
            "File: Corona (11).wav, Chunk 67: Predicted Fault = Corona\n",
            "File: Corona (11).wav, Chunk 68: Predicted Fault = Corona\n",
            "File: Corona (11).wav, Chunk 69: Predicted Fault = Corona\n",
            "File: Corona (11).wav, Chunk 70: Predicted Fault = Corona\n",
            "File: Corona (11).wav, Chunk 71: Predicted Fault = Corona\n",
            "File: Corona (11).wav, Chunk 72: Predicted Fault = Corona\n",
            "File: Corona (11).wav, Chunk 73: Predicted Fault = Corona\n",
            "File: Corona (11).wav, Chunk 74: Predicted Fault = Corona\n",
            "File: Corona (11).wav, Chunk 75: Predicted Fault = Corona\n",
            "File: Corona (11).wav, Chunk 76: Predicted Fault = Corona\n",
            "File: Corona (11).wav, Chunk 77: Predicted Fault = Corona\n",
            "File: Corona (11).wav, Chunk 78: Predicted Fault = Corona\n",
            "File: Corona (11).wav, Chunk 79: Predicted Fault = Corona\n",
            "File: Corona (11).wav, Chunk 80: Predicted Fault = Corona\n",
            "File: Corona (11).wav, Chunk 81: Predicted Fault = Arcing\n",
            "File: Corona (11).wav, Chunk 82: Predicted Fault = Corona\n",
            "File: Corona (11).wav, Chunk 83: Predicted Fault = Corona\n",
            "File: Corona (11).wav, Chunk 84: Predicted Fault = Corona\n",
            "File: Corona (11).wav, Chunk 85: Predicted Fault = Corona\n",
            "File: Arcing (1).wav, Overall Predicted Fault = Arcing\n",
            "File: Corona (11).wav, Overall Predicted Fault = Corona\n"
          ]
        },
        {
          "output_type": "execute_result",
          "data": {
            "text/plain": [
              "5925"
            ]
          },
          "metadata": {},
          "execution_count": 34
        }
      ]
    }
  ]
}